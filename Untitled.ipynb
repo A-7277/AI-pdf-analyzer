{
 "cells": [
  {
   "cell_type": "code",
   "execution_count": 17,
   "id": "bf2f6052",
   "metadata": {},
   "outputs": [],
   "source": [
    "import google.generativeai  as genai"
   ]
  },
  {
   "cell_type": "code",
   "execution_count": 71,
   "id": "48ddd480",
   "metadata": {},
   "outputs": [],
   "source": [
    "import os\n",
    "from dotenv import load_dotenv"
   ]
  },
  {
   "cell_type": "code",
   "execution_count": 2,
   "id": "7146c872",
   "metadata": {},
   "outputs": [
    {
     "name": "stdout",
     "output_type": "stream",
     "text": [
      "Defaulting to user installation because normal site-packages is not writeable\n",
      "Requirement already satisfied: langchain_google_genai in c:\\users\\91772\\appdata\\roaming\\python\\python311\\site-packages (2.0.0)\n",
      "Requirement already satisfied: google-generativeai<0.8.0,>=0.7.0 in c:\\users\\91772\\appdata\\roaming\\python\\python311\\site-packages (from langchain_google_genai) (0.7.2)\n",
      "Requirement already satisfied: langchain-core<0.4,>=0.3.0 in c:\\users\\91772\\appdata\\roaming\\python\\python311\\site-packages (from langchain_google_genai) (0.3.1)\n",
      "Requirement already satisfied: pydantic<3,>=2 in c:\\users\\91772\\appdata\\roaming\\python\\python311\\site-packages (from langchain_google_genai) (2.9.2)\n",
      "Requirement already satisfied: google-ai-generativelanguage==0.6.6 in c:\\users\\91772\\appdata\\roaming\\python\\python311\\site-packages (from google-generativeai<0.8.0,>=0.7.0->langchain_google_genai) (0.6.6)\n",
      "Requirement already satisfied: google-api-core in c:\\users\\91772\\appdata\\roaming\\python\\python311\\site-packages (from google-generativeai<0.8.0,>=0.7.0->langchain_google_genai) (2.19.2)\n",
      "Requirement already satisfied: google-api-python-client in c:\\users\\91772\\appdata\\roaming\\python\\python311\\site-packages (from google-generativeai<0.8.0,>=0.7.0->langchain_google_genai) (2.144.0)\n",
      "Requirement already satisfied: google-auth>=2.15.0 in c:\\users\\91772\\appdata\\roaming\\python\\python311\\site-packages (from google-generativeai<0.8.0,>=0.7.0->langchain_google_genai) (2.34.0)\n",
      "Requirement already satisfied: protobuf in c:\\users\\91772\\appdata\\roaming\\python\\python311\\site-packages (from google-generativeai<0.8.0,>=0.7.0->langchain_google_genai) (4.25.3)\n",
      "Requirement already satisfied: tqdm in c:\\programdata\\anaconda3\\lib\\site-packages (from google-generativeai<0.8.0,>=0.7.0->langchain_google_genai) (4.65.0)\n",
      "Requirement already satisfied: typing-extensions in c:\\users\\91772\\appdata\\roaming\\python\\python311\\site-packages (from google-generativeai<0.8.0,>=0.7.0->langchain_google_genai) (4.12.2)\n",
      "Requirement already satisfied: proto-plus<2.0.0dev,>=1.22.3 in c:\\users\\91772\\appdata\\roaming\\python\\python311\\site-packages (from google-ai-generativelanguage==0.6.6->google-generativeai<0.8.0,>=0.7.0->langchain_google_genai) (1.24.0)\n",
      "Requirement already satisfied: PyYAML>=5.3 in c:\\programdata\\anaconda3\\lib\\site-packages (from langchain-core<0.4,>=0.3.0->langchain_google_genai) (6.0)\n",
      "Requirement already satisfied: jsonpatch<2.0,>=1.33 in c:\\users\\91772\\appdata\\roaming\\python\\python311\\site-packages (from langchain-core<0.4,>=0.3.0->langchain_google_genai) (1.33)\n",
      "Requirement already satisfied: langsmith<0.2.0,>=0.1.117 in c:\\users\\91772\\appdata\\roaming\\python\\python311\\site-packages (from langchain-core<0.4,>=0.3.0->langchain_google_genai) (0.1.121)\n",
      "Requirement already satisfied: packaging<25,>=23.2 in c:\\users\\91772\\appdata\\roaming\\python\\python311\\site-packages (from langchain-core<0.4,>=0.3.0->langchain_google_genai) (24.1)\n",
      "Requirement already satisfied: tenacity!=8.4.0,<9.0.0,>=8.1.0 in c:\\programdata\\anaconda3\\lib\\site-packages (from langchain-core<0.4,>=0.3.0->langchain_google_genai) (8.2.2)\n",
      "Requirement already satisfied: annotated-types>=0.6.0 in c:\\users\\91772\\appdata\\roaming\\python\\python311\\site-packages (from pydantic<3,>=2->langchain_google_genai) (0.7.0)\n",
      "Requirement already satisfied: pydantic-core==2.23.4 in c:\\users\\91772\\appdata\\roaming\\python\\python311\\site-packages (from pydantic<3,>=2->langchain_google_genai) (2.23.4)\n",
      "Requirement already satisfied: cachetools<6.0,>=2.0.0 in c:\\users\\91772\\appdata\\roaming\\python\\python311\\site-packages (from google-auth>=2.15.0->google-generativeai<0.8.0,>=0.7.0->langchain_google_genai) (5.5.0)\n",
      "Requirement already satisfied: pyasn1-modules>=0.2.1 in c:\\programdata\\anaconda3\\lib\\site-packages (from google-auth>=2.15.0->google-generativeai<0.8.0,>=0.7.0->langchain_google_genai) (0.2.8)\n",
      "Requirement already satisfied: rsa<5,>=3.1.4 in c:\\users\\91772\\appdata\\roaming\\python\\python311\\site-packages (from google-auth>=2.15.0->google-generativeai<0.8.0,>=0.7.0->langchain_google_genai) (4.9)\n",
      "Requirement already satisfied: jsonpointer>=1.9 in c:\\programdata\\anaconda3\\lib\\site-packages (from jsonpatch<2.0,>=1.33->langchain-core<0.4,>=0.3.0->langchain_google_genai) (2.1)\n",
      "Requirement already satisfied: httpx<1,>=0.23.0 in c:\\users\\91772\\appdata\\roaming\\python\\python311\\site-packages (from langsmith<0.2.0,>=0.1.117->langchain-core<0.4,>=0.3.0->langchain_google_genai) (0.27.2)\n",
      "Requirement already satisfied: orjson<4.0.0,>=3.9.14 in c:\\users\\91772\\appdata\\roaming\\python\\python311\\site-packages (from langsmith<0.2.0,>=0.1.117->langchain-core<0.4,>=0.3.0->langchain_google_genai) (3.10.7)\n",
      "Requirement already satisfied: requests<3,>=2 in c:\\users\\91772\\appdata\\roaming\\python\\python311\\site-packages (from langsmith<0.2.0,>=0.1.117->langchain-core<0.4,>=0.3.0->langchain_google_genai) (2.32.3)\n",
      "Requirement already satisfied: googleapis-common-protos<2.0.dev0,>=1.56.2 in c:\\users\\91772\\appdata\\roaming\\python\\python311\\site-packages (from google-api-core->google-generativeai<0.8.0,>=0.7.0->langchain_google_genai) (1.65.0)\n",
      "Requirement already satisfied: httplib2<1.dev0,>=0.19.0 in c:\\users\\91772\\appdata\\roaming\\python\\python311\\site-packages (from google-api-python-client->google-generativeai<0.8.0,>=0.7.0->langchain_google_genai) (0.22.0)\n",
      "Requirement already satisfied: google-auth-httplib2<1.0.0,>=0.2.0 in c:\\users\\91772\\appdata\\roaming\\python\\python311\\site-packages (from google-api-python-client->google-generativeai<0.8.0,>=0.7.0->langchain_google_genai) (0.2.0)\n",
      "Requirement already satisfied: uritemplate<5,>=3.0.1 in c:\\users\\91772\\appdata\\roaming\\python\\python311\\site-packages (from google-api-python-client->google-generativeai<0.8.0,>=0.7.0->langchain_google_genai) (4.1.1)\n",
      "Requirement already satisfied: colorama in c:\\programdata\\anaconda3\\lib\\site-packages (from tqdm->google-generativeai<0.8.0,>=0.7.0->langchain_google_genai) (0.4.6)\n",
      "Requirement already satisfied: grpcio<2.0dev,>=1.33.2 in c:\\users\\91772\\appdata\\roaming\\python\\python311\\site-packages (from google-api-core->google-generativeai<0.8.0,>=0.7.0->langchain_google_genai) (1.66.1)\n",
      "Requirement already satisfied: grpcio-status<2.0.dev0,>=1.33.2 in c:\\users\\91772\\appdata\\roaming\\python\\python311\\site-packages (from google-api-core->google-generativeai<0.8.0,>=0.7.0->langchain_google_genai) (1.62.3)\n",
      "Requirement already satisfied: pyparsing!=3.0.0,!=3.0.1,!=3.0.2,!=3.0.3,<4,>=2.4.2 in c:\\programdata\\anaconda3\\lib\\site-packages (from httplib2<1.dev0,>=0.19.0->google-api-python-client->google-generativeai<0.8.0,>=0.7.0->langchain_google_genai) (3.0.9)\n",
      "Requirement already satisfied: anyio in c:\\programdata\\anaconda3\\lib\\site-packages (from httpx<1,>=0.23.0->langsmith<0.2.0,>=0.1.117->langchain-core<0.4,>=0.3.0->langchain_google_genai) (3.5.0)\n",
      "Requirement already satisfied: certifi in c:\\programdata\\anaconda3\\lib\\site-packages (from httpx<1,>=0.23.0->langsmith<0.2.0,>=0.1.117->langchain-core<0.4,>=0.3.0->langchain_google_genai) (2023.7.22)\n",
      "Requirement already satisfied: httpcore==1.* in c:\\users\\91772\\appdata\\roaming\\python\\python311\\site-packages (from httpx<1,>=0.23.0->langsmith<0.2.0,>=0.1.117->langchain-core<0.4,>=0.3.0->langchain_google_genai) (1.0.5)\n",
      "Requirement already satisfied: idna in c:\\programdata\\anaconda3\\lib\\site-packages (from httpx<1,>=0.23.0->langsmith<0.2.0,>=0.1.117->langchain-core<0.4,>=0.3.0->langchain_google_genai) (3.4)\n",
      "Requirement already satisfied: sniffio in c:\\programdata\\anaconda3\\lib\\site-packages (from httpx<1,>=0.23.0->langsmith<0.2.0,>=0.1.117->langchain-core<0.4,>=0.3.0->langchain_google_genai) (1.2.0)\n",
      "Requirement already satisfied: h11<0.15,>=0.13 in c:\\users\\91772\\appdata\\roaming\\python\\python311\\site-packages (from httpcore==1.*->httpx<1,>=0.23.0->langsmith<0.2.0,>=0.1.117->langchain-core<0.4,>=0.3.0->langchain_google_genai) (0.14.0)\n",
      "Requirement already satisfied: pyasn1<0.5.0,>=0.4.6 in c:\\programdata\\anaconda3\\lib\\site-packages (from pyasn1-modules>=0.2.1->google-auth>=2.15.0->google-generativeai<0.8.0,>=0.7.0->langchain_google_genai) (0.4.8)\n",
      "Requirement already satisfied: charset-normalizer<4,>=2 in c:\\users\\91772\\appdata\\roaming\\python\\python311\\site-packages (from requests<3,>=2->langsmith<0.2.0,>=0.1.117->langchain-core<0.4,>=0.3.0->langchain_google_genai) (3.3.2)\n",
      "Requirement already satisfied: urllib3<3,>=1.21.1 in c:\\users\\91772\\appdata\\roaming\\python\\python311\\site-packages (from requests<3,>=2->langsmith<0.2.0,>=0.1.117->langchain-core<0.4,>=0.3.0->langchain_google_genai) (2.2.3)\n",
      "Note: you may need to restart the kernel to use updated packages.\n"
     ]
    }
   ],
   "source": [
    "pip install langchain_google_genai"
   ]
  },
  {
   "cell_type": "code",
   "execution_count": 20,
   "id": "dea29302",
   "metadata": {},
   "outputs": [],
   "source": [
    "from langchain.document_loaders import PyPDFLoader"
   ]
  },
  {
   "cell_type": "code",
   "execution_count": 28,
   "id": "18e70669",
   "metadata": {},
   "outputs": [],
   "source": [
    "loader=PyPDFLoader(\"AI Engineer Intern Assignment - Workplete.pdf\")"
   ]
  },
  {
   "cell_type": "code",
   "execution_count": 29,
   "id": "b1ec29ea",
   "metadata": {},
   "outputs": [],
   "source": [
    "data=loader.load()"
   ]
  },
  {
   "cell_type": "code",
   "execution_count": 31,
   "id": "614f12ca",
   "metadata": {},
   "outputs": [
    {
     "data": {
      "text/plain": [
       "[Document(metadata={'source': 'AI Engineer Intern Assignment - Workplete.pdf', 'page': 0}, page_content='AI\\nEngineer\\nIntern\\nAssignment\\n-\\nWorkplete\\nBackground\\nWorkplete\\nis\\na\\nleading\\nAI\\nautomation\\ncompany\\nthat\\nprovides\\nAI\\nemployees\\nto\\nusers\\nacross\\nvarious\\nindustries.\\nOur\\nmission\\nis\\nto\\nrevolutionise\\nthe\\nworkplace\\nby\\nseamlessly\\nintegrating\\nAI-powered\\nvirtual\\nemployees\\ninto\\nexisting\\nteams\\nand\\nworkflows.\\nAssignment\\nOverview\\nAs\\nan\\nAI\\nengineer\\nintern\\nat\\nWorkplete,\\nyour\\ntask\\nis\\nto\\ndevelop\\na\\nprototype\\nfor\\na\\nnew\\nAI\\nemployee\\nthat\\nspecialises\\nin\\ndata\\nanalysis\\nand\\nreporting.\\nThis\\nAI\\nemployee\\nshould\\nbe\\ncapable\\nof\\nprocessing\\nlarge\\ndatasets,\\nidentifying\\ntrends,\\nand\\ngenerating\\ninsightful\\nreports\\nfor\\nthe\\nclients.\\nRequirements\\n1.\\nData\\nProcessing\\n-\\nImplement\\na\\ndata\\ningestion\\nmodule\\nthat\\ncan\\nhandle\\nvarious\\nfile\\nformats\\n(CSV,\\nJSON,\\nExcel)\\n-\\nCreate\\na\\ndata\\ncleaning\\nand\\npreprocessing\\npipeline\\n2.\\nAnalysis\\nEngine\\n-\\nDevelop\\nan\\nanalysis\\nengine\\nthat\\ncan\\nidentify\\nkey\\ntrends\\nand\\npatterns\\nin\\nthe\\ndata\\n-\\nImplement\\nat\\nleast\\nthree\\ndifferent\\nstatistical\\nor\\nmachine\\nlearning\\nalgorithms\\nfor\\ndata\\nanalysis\\n3.\\nReport\\nGeneration\\n-\\nCreate\\na\\nmodule\\nthat\\ncan\\ngenerate\\ncomprehensive\\nreports\\nbased\\non\\nthe\\nanalysis\\nresults\\n-\\nThe\\nreports\\nshould\\ninclude\\nvisualisations\\n(charts,\\ngraphs)\\nand\\nwritten\\nsummaries\\n4.\\nUser\\nInteraction\\n-\\nDesign\\na\\nsimple\\ncommand-line\\ninterface\\nfor\\nusers\\nto\\ninteract\\nwith\\nthe\\nAI\\nemployee\\n-\\nImplement\\nbasic\\nnatural\\nlanguage\\nprocessing\\nto\\nunderstand\\nuser\\nqueries\\nrelated\\nto\\nthe\\ndata\\nanalysis\\n5.\\nDocumentation\\nand\\nTesting\\n-\\nProvide\\nclear\\ndocumentation\\nfor\\nyour\\ncode\\nand\\nthe\\noverall\\nsystem\\narchitecture\\n-\\nWrite\\nunit\\ntests\\nfor\\ncritical\\ncomponents\\nof\\nyour\\nimplementation\\nDeliverables\\n1.\\nSource\\ncode\\nfor\\nthe\\nAI\\nemployee\\nprototype\\n2.\\nA\\nbrief\\ntechnical\\nreport\\n(2-3\\npages)\\ndescribing\\nyour\\napproach,\\nchallenges\\nfaced,\\nand\\npotential\\nimprovements\\n3.\\nA\\n5-minute\\npresentation\\ndemonstrating\\nthe\\ncapabilities\\nof\\nyour\\nAI\\nemployee'),\n",
       " Document(metadata={'source': 'AI Engineer Intern Assignment - Workplete.pdf', 'page': 1}, page_content=\"Evaluation\\nCriteria\\n-\\nCode\\nquality\\nand\\norganisation\\n-\\nEffectiveness\\nof\\nthe\\nanalysis\\nand\\ninsights\\ngenerated\\n-\\nUser-friendliness\\nof\\nthe\\ninterface\\n-\\nCreativity\\nand\\ninnovation\\nin\\napproach\\n-\\nQuality\\nof\\ndocumentation\\nand\\npresentation\\nTimeline\\n-\\nYou\\nwill\\nhave\\n5\\ndays\\nto\\ncomplete\\nthis\\nassignment\\n-\\nScheduled\\ninterview\\nwill\\nbe\\ntaken\\nafter\\nthe\\nsuccessful\\ncompletion\\nof\\nassignment.\\nResources\\n-\\nSample\\nData\\nLink:\\nhttps://docs.google.com/spreadsheets/d/13kLMfJi91ZrJhGHieCOVSl2xb6Ba4Vr48zE42IlNb\\nTo/edit?usp=sharing\\n-\\nFeel\\nfree\\nto\\nuse\\nopen-source\\nlibraries\\nand\\nframeworks,\\nbut\\nclearly\\ndocument\\nany\\nexternal\\ndependencies.\\n-\\nSubmit\\nthe\\npresentation\\nat\\nhttps://drive.google.com/drive/folders/1x2fZrH02grfFTrJC0B2yo-I8unmD7X46?usp=sharing\\nGood\\nluck!\\nWe're\\nexcited\\nto\\nsee\\nyour\\ninnovative\\nsolutions\\nand\\nhow\\nyou\\napproach\\ncreating\\nan\\nAI\\nemployee\\nthat\\naligns\\nwith\\nWorkplete's\\nmission.\")]"
      ]
     },
     "execution_count": 31,
     "metadata": {},
     "output_type": "execute_result"
    }
   ],
   "source": [
    "data"
   ]
  },
  {
   "cell_type": "code",
   "execution_count": 32,
   "id": "5a4eb0e7",
   "metadata": {},
   "outputs": [],
   "source": [
    "from langchain.text_splitter import RecursiveCharacterTextSplitter"
   ]
  },
  {
   "cell_type": "code",
   "execution_count": 45,
   "id": "cf59f211",
   "metadata": {},
   "outputs": [],
   "source": [
    "splitter=RecursiveCharacterTextSplitter(separators=['\\n','.',' '],chunk_size=1000,chunk_overlap=200)"
   ]
  },
  {
   "cell_type": "code",
   "execution_count": 46,
   "id": "90fd7cec",
   "metadata": {},
   "outputs": [],
   "source": [
    "chunks=splitter.split_documents(documents=data)"
   ]
  },
  {
   "cell_type": "code",
   "execution_count": 47,
   "id": "cf1f6fa7",
   "metadata": {},
   "outputs": [
    {
     "data": {
      "text/plain": [
       "[Document(metadata={'source': 'AI Engineer Intern Assignment - Workplete.pdf', 'page': 0}, page_content='AI\\nEngineer\\nIntern\\nAssignment\\n-\\nWorkplete\\nBackground\\nWorkplete\\nis\\na\\nleading\\nAI\\nautomation\\ncompany\\nthat\\nprovides\\nAI\\nemployees\\nto\\nusers\\nacross\\nvarious\\nindustries.\\nOur\\nmission\\nis\\nto\\nrevolutionise\\nthe\\nworkplace\\nby\\nseamlessly\\nintegrating\\nAI-powered\\nvirtual\\nemployees\\ninto\\nexisting\\nteams\\nand\\nworkflows.\\nAssignment\\nOverview\\nAs\\nan\\nAI\\nengineer\\nintern\\nat\\nWorkplete,\\nyour\\ntask\\nis\\nto\\ndevelop\\na\\nprototype\\nfor\\na\\nnew\\nAI\\nemployee\\nthat\\nspecialises\\nin\\ndata\\nanalysis\\nand\\nreporting.\\nThis\\nAI\\nemployee\\nshould\\nbe\\ncapable\\nof\\nprocessing\\nlarge\\ndatasets,\\nidentifying\\ntrends,\\nand\\ngenerating\\ninsightful\\nreports\\nfor\\nthe\\nclients.\\nRequirements\\n1.\\nData\\nProcessing\\n-\\nImplement\\na\\ndata\\ningestion\\nmodule\\nthat\\ncan\\nhandle\\nvarious\\nfile\\nformats\\n(CSV,\\nJSON,\\nExcel)\\n-\\nCreate\\na\\ndata\\ncleaning\\nand\\npreprocessing\\npipeline\\n2.\\nAnalysis\\nEngine\\n-\\nDevelop\\nan\\nanalysis\\nengine\\nthat\\ncan\\nidentify\\nkey\\ntrends\\nand\\npatterns\\nin\\nthe\\ndata\\n-\\nImplement\\nat\\nleast\\nthree\\ndifferent\\nstatistical\\nor\\nmachine\\nlearning\\nalgorithms\\nfor\\ndata\\nanalysis\\n3.\\nReport\\nGeneration\\n-'),\n",
       " Document(metadata={'source': 'AI Engineer Intern Assignment - Workplete.pdf', 'page': 0}, page_content='an\\nanalysis\\nengine\\nthat\\ncan\\nidentify\\nkey\\ntrends\\nand\\npatterns\\nin\\nthe\\ndata\\n-\\nImplement\\nat\\nleast\\nthree\\ndifferent\\nstatistical\\nor\\nmachine\\nlearning\\nalgorithms\\nfor\\ndata\\nanalysis\\n3.\\nReport\\nGeneration\\n-\\nCreate\\na\\nmodule\\nthat\\ncan\\ngenerate\\ncomprehensive\\nreports\\nbased\\non\\nthe\\nanalysis\\nresults\\n-\\nThe\\nreports\\nshould\\ninclude\\nvisualisations\\n(charts,\\ngraphs)\\nand\\nwritten\\nsummaries\\n4.\\nUser\\nInteraction\\n-\\nDesign\\na\\nsimple\\ncommand-line\\ninterface\\nfor\\nusers\\nto\\ninteract\\nwith\\nthe\\nAI\\nemployee\\n-\\nImplement\\nbasic\\nnatural\\nlanguage\\nprocessing\\nto\\nunderstand\\nuser\\nqueries\\nrelated\\nto\\nthe\\ndata\\nanalysis\\n5.\\nDocumentation\\nand\\nTesting\\n-\\nProvide\\nclear\\ndocumentation\\nfor\\nyour\\ncode\\nand\\nthe\\noverall\\nsystem\\narchitecture\\n-\\nWrite\\nunit\\ntests\\nfor\\ncritical\\ncomponents\\nof\\nyour\\nimplementation\\nDeliverables\\n1.\\nSource\\ncode\\nfor\\nthe\\nAI\\nemployee\\nprototype\\n2.\\nA\\nbrief\\ntechnical\\nreport\\n(2-3\\npages)\\ndescribing\\nyour\\napproach,\\nchallenges\\nfaced,\\nand\\npotential\\nimprovements\\n3.\\nA\\n5-minute\\npresentation\\ndemonstrating\\nthe\\ncapabilities\\nof\\nyour\\nAI\\nemployee'),\n",
       " Document(metadata={'source': 'AI Engineer Intern Assignment - Workplete.pdf', 'page': 1}, page_content=\"Evaluation\\nCriteria\\n-\\nCode\\nquality\\nand\\norganisation\\n-\\nEffectiveness\\nof\\nthe\\nanalysis\\nand\\ninsights\\ngenerated\\n-\\nUser-friendliness\\nof\\nthe\\ninterface\\n-\\nCreativity\\nand\\ninnovation\\nin\\napproach\\n-\\nQuality\\nof\\ndocumentation\\nand\\npresentation\\nTimeline\\n-\\nYou\\nwill\\nhave\\n5\\ndays\\nto\\ncomplete\\nthis\\nassignment\\n-\\nScheduled\\ninterview\\nwill\\nbe\\ntaken\\nafter\\nthe\\nsuccessful\\ncompletion\\nof\\nassignment.\\nResources\\n-\\nSample\\nData\\nLink:\\nhttps://docs.google.com/spreadsheets/d/13kLMfJi91ZrJhGHieCOVSl2xb6Ba4Vr48zE42IlNb\\nTo/edit?usp=sharing\\n-\\nFeel\\nfree\\nto\\nuse\\nopen-source\\nlibraries\\nand\\nframeworks,\\nbut\\nclearly\\ndocument\\nany\\nexternal\\ndependencies.\\n-\\nSubmit\\nthe\\npresentation\\nat\\nhttps://drive.google.com/drive/folders/1x2fZrH02grfFTrJC0B2yo-I8unmD7X46?usp=sharing\\nGood\\nluck!\\nWe're\\nexcited\\nto\\nsee\\nyour\\ninnovative\\nsolutions\\nand\\nhow\\nyou\\napproach\\ncreating\\nan\\nAI\\nemployee\\nthat\\naligns\\nwith\\nWorkplete's\\nmission.\")]"
      ]
     },
     "execution_count": 47,
     "metadata": {},
     "output_type": "execute_result"
    }
   ],
   "source": [
    "chunks"
   ]
  },
  {
   "cell_type": "code",
   "execution_count": 38,
   "id": "1687ffff",
   "metadata": {},
   "outputs": [],
   "source": [
    "from langchain_huggingface import HuggingFaceEmbeddings"
   ]
  },
  {
   "cell_type": "code",
   "execution_count": 39,
   "id": "6c50fe91",
   "metadata": {},
   "outputs": [],
   "source": [
    "from langchain.vectorstores import FAISS"
   ]
  },
  {
   "cell_type": "code",
   "execution_count": 41,
   "id": "f8d9213b",
   "metadata": {},
   "outputs": [],
   "source": [
    "model_name = \"sentence-transformers/all-mpnet-base-v2\"\n",
    "model_kwargs = {'device': 'cpu'}\n",
    "encode_kwargs = {'normalize_embeddings': False}\n",
    "hf = HuggingFaceEmbeddings(\n",
    "    model_name=model_name,\n",
    "    model_kwargs=model_kwargs,\n",
    "    encode_kwargs=encode_kwargs\n",
    ")"
   ]
  },
  {
   "cell_type": "code",
   "execution_count": 48,
   "id": "d2febf62",
   "metadata": {},
   "outputs": [],
   "source": [
    "vectorindex=FAISS.from_documents(chunks,hf)"
   ]
  },
  {
   "cell_type": "code",
   "execution_count": 67,
   "id": "837420f5",
   "metadata": {},
   "outputs": [],
   "source": [
    "retriever=vectorindex.as_retriever()\n",
    "question=\"what is assignment all about\"\n",
    "para=retriever.get_relevant_documents(question)"
   ]
  },
  {
   "cell_type": "code",
   "execution_count": 72,
   "id": "13881675",
   "metadata": {},
   "outputs": [],
   "source": [
    "load_dotenv()\n",
    "\n",
    "genai.configure(api_key=os.getenv('api_key'))\n",
    "\n",
    "generation_config = {\n",
    "  \"temperature\": 1,\n",
    "  \"top_p\": 0.95,\n",
    "  \"top_k\": 64,\n",
    "  \"max_output_tokens\": 8192,\n",
    "  \"response_mime_type\": \"text/plain\",\n",
    "}\n",
    "\n",
    "model = genai.GenerativeModel(\n",
    "  model_name=\"gemini-1.5-flash\",\n",
    "  generation_config=generation_config,\n",
    "  system_instruction=f\"find answer of this question- {question} from this paragarph {para}\",\n",
    ")\n"
   ]
  },
  {
   "cell_type": "code",
   "execution_count": 73,
   "id": "fc4ea7a6",
   "metadata": {},
   "outputs": [
    {
     "data": {
      "text/plain": [
       "response:\n",
       "GenerateContentResponse(\n",
       "    done=True,\n",
       "    iterator=None,\n",
       "    result=protos.GenerateContentResponse({\n",
       "      \"candidates\": [\n",
       "        {\n",
       "          \"content\": {\n",
       "            \"parts\": [\n",
       "              {\n",
       "                \"text\": \"The assignment is about creating a prototype for a new AI employee specializing in data analysis and reporting. You'll be building an AI that can:\\n\\n* **Process data:** Take in data from various file formats like CSV, JSON, and Excel.\\n* **Analyze data:** Identify trends and patterns using at least three different statistical or machine learning algorithms.\\n* **Generate reports:** Create comprehensive reports with visualizations (charts, graphs) and written summaries.\\n* **Interact with users:** Have a simple command-line interface that allows users to interact with the AI.\\n* **Document and test:** Clearly document your code and system architecture, and write unit tests for critical components.\\n\\nEssentially, you're designing an AI assistant that can analyze data and generate insightful reports, helping users understand their data better. \\n\"\n",
       "              }\n",
       "            ],\n",
       "            \"role\": \"model\"\n",
       "          },\n",
       "          \"finish_reason\": \"STOP\",\n",
       "          \"index\": 0,\n",
       "          \"safety_ratings\": [\n",
       "            {\n",
       "              \"category\": \"HARM_CATEGORY_SEXUALLY_EXPLICIT\",\n",
       "              \"probability\": \"NEGLIGIBLE\"\n",
       "            },\n",
       "            {\n",
       "              \"category\": \"HARM_CATEGORY_HATE_SPEECH\",\n",
       "              \"probability\": \"NEGLIGIBLE\"\n",
       "            },\n",
       "            {\n",
       "              \"category\": \"HARM_CATEGORY_HARASSMENT\",\n",
       "              \"probability\": \"NEGLIGIBLE\"\n",
       "            },\n",
       "            {\n",
       "              \"category\": \"HARM_CATEGORY_DANGEROUS_CONTENT\",\n",
       "              \"probability\": \"NEGLIGIBLE\"\n",
       "            }\n",
       "          ]\n",
       "        }\n",
       "      ],\n",
       "      \"usage_metadata\": {\n",
       "        \"prompt_token_count\": 1365,\n",
       "        \"candidates_token_count\": 163,\n",
       "        \"total_token_count\": 1528\n",
       "      }\n",
       "    }),\n",
       ")"
      ]
     },
     "execution_count": 73,
     "metadata": {},
     "output_type": "execute_result"
    }
   ],
   "source": [
    "model.generate_content(question)"
   ]
  },
  {
   "cell_type": "code",
   "execution_count": null,
   "id": "0bd04ae6",
   "metadata": {},
   "outputs": [],
   "source": []
  }
 ],
 "metadata": {
  "kernelspec": {
   "display_name": "Python 3 (ipykernel)",
   "language": "python",
   "name": "python3"
  },
  "language_info": {
   "codemirror_mode": {
    "name": "ipython",
    "version": 3
   },
   "file_extension": ".py",
   "mimetype": "text/x-python",
   "name": "python",
   "nbconvert_exporter": "python",
   "pygments_lexer": "ipython3",
   "version": "3.11.5"
  }
 },
 "nbformat": 4,
 "nbformat_minor": 5
}
